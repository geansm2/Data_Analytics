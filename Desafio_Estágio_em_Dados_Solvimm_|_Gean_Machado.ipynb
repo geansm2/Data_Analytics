{
  "nbformat": 4,
  "nbformat_minor": 0,
  "metadata": {
    "colab": {
      "provenance": [],
      "mount_file_id": "1Jr_6Dr2VvIVi8teG2fN-Fa4uEHl3armN",
      "authorship_tag": "ABX9TyPNsSbkS779Vd5IeSvC3tb0",
      "include_colab_link": true
    },
    "kernelspec": {
      "name": "python3",
      "display_name": "Python 3"
    },
    "language_info": {
      "name": "python"
    }
  },
  "cells": [
    {
      "cell_type": "markdown",
      "metadata": {
        "id": "view-in-github",
        "colab_type": "text"
      },
      "source": [
        "<a href=\"https://colab.research.google.com/github/geansm2/Data_Analytics/blob/main/Desafio_Est%C3%A1gio_em_Dados_Solvimm_%7C_Gean_Machado.ipynb\" target=\"_parent\"><img src=\"https://colab.research.google.com/assets/colab-badge.svg\" alt=\"Open In Colab\"/></a>"
      ]
    },
    {
      "cell_type": "markdown",
      "metadata": {
        "id": "lfKCDyU_SFGb"
      },
      "source": [
        "# Antes de começar\n",
        "\n",
        "1. Não é necessário, mas sugiro que crie uma cópia desse Notebook para edição. (Arquivo -> Salvar uma cópia no Drive)\n",
        "\n",
        "2. O Colaboratory ou \"Colab\" permite executar código Python direto no seu navegador. Optei por automatizar o upload e leitura dos dados disponíveis em arquivos .csv.\n",
        "\n",
        "3. Basta executar sequencialmente cada célula que os resultados são exibidos na sequência."
      ]
    },
    {
      "cell_type": "markdown",
      "metadata": {
        "id": "pVv9uGOSOz5X"
      },
      "source": [
        "# Modelagem dos dados e inferência\n",
        "\n",
        "Farei uso do [PyDrive](https://pythonhosted.org/PyDrive/) uma biblioteca wrapper de google-api-python-client que simplifica muitas tarefas comuns da API do Google Drive.\n",
        "\n",
        "# Nota\n",
        "Para continuar, o Google compartilhará com o app Google Cloud SDK seu nome, endereço de e-mail, idioma preferido e sua foto do perfil.\n",
        "Isso para que aplicação vincule ao google driver e então acesse os arquivos .csv\n",
        "\n",
        "Os links dos arquivos é o mesmo fornecido no arquivo .pdf com a proposta do desafio, foi somente abreviado para id de identificação do mesmo."
      ]
    },
    {
      "cell_type": "code",
      "metadata": {
        "id": "uXId7_QmEgcd"
      },
      "source": [
        "#instala o PyDrive wrapper e importa as bibliotecas.\n",
        "!pip install -U -q PyDrive\n",
        "from pydrive.auth import GoogleAuth\n",
        "from pydrive.drive import GoogleDrive\n",
        "from google.colab import auth\n",
        "from oauth2client.client import GoogleCredentials\n",
        "\n",
        "#cria atuenticação e credencia a aplicação para acesso a planilha \n",
        "auth.authenticate_user()\n",
        "gauth = GoogleAuth()\n",
        "gauth.credentials = GoogleCredentials.get_application_default()\n",
        "drive = GoogleDrive(gauth)\n"
      ],
      "execution_count": null,
      "outputs": []
    },
    {
      "cell_type": "markdown",
      "metadata": {
        "id": "VxZaSY-pXreO"
      },
      "source": [
        "# Base 1\n",
        "Para importar a planilha basta indicar o id do arquivo Google Sheets no Google Driver."
      ]
    },
    {
      "cell_type": "code",
      "metadata": {
        "colab": {
          "base_uri": "https://localhost:8080/",
          "height": 374
        },
        "id": "WDMVCIeuXpp5",
        "outputId": "fc298d6a-a0aa-4fdb-d558-96c9080ea044"
      },
      "source": [
        "# Indicação da planilha BASE1\n",
        "# file_id = '1gLsCjaMrL91ECdThq58cZAzB9tPxG18g'\n",
        "file_id =   '1lXhuZxN4oIwIDBWloNBzOkyJ9Q6sEEVQM8vvlLbZBH8'#M8vvlLbZBH8'\n",
        "downloaded = drive.CreateFile({'id': file_id})\n",
        "\n",
        "# Donwload do arquivo para o disco local\n",
        "downloaded.GetContentFile('movies.csv')\n",
        "\n",
        "# Confere o arquivo\n",
        "!ls -lha movies.csv"
      ],
      "execution_count": null,
      "outputs": [
        {
          "output_type": "error",
          "ename": "FileNotDownloadableError",
          "evalue": "ignored",
          "traceback": [
            "\u001b[0;31m---------------------------------------------------------------------------\u001b[0m",
            "\u001b[0;31mFileNotDownloadableError\u001b[0m                  Traceback (most recent call last)",
            "\u001b[0;32m<ipython-input-3-31df357a833c>\u001b[0m in \u001b[0;36m<module>\u001b[0;34m()\u001b[0m\n\u001b[1;32m      5\u001b[0m \u001b[0;34m\u001b[0m\u001b[0m\n\u001b[1;32m      6\u001b[0m \u001b[0;31m# Donwload do arquivo para o disco local\u001b[0m\u001b[0;34m\u001b[0m\u001b[0;34m\u001b[0m\u001b[0;34m\u001b[0m\u001b[0m\n\u001b[0;32m----> 7\u001b[0;31m \u001b[0mdownloaded\u001b[0m\u001b[0;34m.\u001b[0m\u001b[0mGetContentFile\u001b[0m\u001b[0;34m(\u001b[0m\u001b[0;34m'movies.csv'\u001b[0m\u001b[0;34m)\u001b[0m\u001b[0;34m\u001b[0m\u001b[0;34m\u001b[0m\u001b[0m\n\u001b[0m\u001b[1;32m      8\u001b[0m \u001b[0;34m\u001b[0m\u001b[0m\n\u001b[1;32m      9\u001b[0m \u001b[0;31m# Confere o arquivo\u001b[0m\u001b[0;34m\u001b[0m\u001b[0;34m\u001b[0m\u001b[0;34m\u001b[0m\u001b[0m\n",
            "\u001b[0;32m/usr/local/lib/python3.7/dist-packages/pydrive/files.py\u001b[0m in \u001b[0;36mGetContentFile\u001b[0;34m(self, filename, mimetype, remove_bom)\u001b[0m\n\u001b[1;32m    208\u001b[0m                     \u001b[0mtype\u001b[0m\u001b[0;34m(\u001b[0m\u001b[0mself\u001b[0m\u001b[0;34m.\u001b[0m\u001b[0mcontent\u001b[0m\u001b[0;34m)\u001b[0m \u001b[0;32mis\u001b[0m \u001b[0;32mnot\u001b[0m \u001b[0mio\u001b[0m\u001b[0;34m.\u001b[0m\u001b[0mBytesIO\u001b[0m \u001b[0;32mor\u001b[0m\u001b[0;31m \u001b[0m\u001b[0;31m\\\u001b[0m\u001b[0;34m\u001b[0m\u001b[0;34m\u001b[0m\u001b[0m\n\u001b[1;32m    209\u001b[0m                     \u001b[0mself\u001b[0m\u001b[0;34m.\u001b[0m\u001b[0mhas_bom\u001b[0m \u001b[0;34m==\u001b[0m \u001b[0mremove_bom\u001b[0m\u001b[0;34m:\u001b[0m\u001b[0;34m\u001b[0m\u001b[0;34m\u001b[0m\u001b[0m\n\u001b[0;32m--> 210\u001b[0;31m       \u001b[0mself\u001b[0m\u001b[0;34m.\u001b[0m\u001b[0mFetchContent\u001b[0m\u001b[0;34m(\u001b[0m\u001b[0mmimetype\u001b[0m\u001b[0;34m,\u001b[0m \u001b[0mremove_bom\u001b[0m\u001b[0;34m)\u001b[0m\u001b[0;34m\u001b[0m\u001b[0;34m\u001b[0m\u001b[0m\n\u001b[0m\u001b[1;32m    211\u001b[0m     \u001b[0mf\u001b[0m \u001b[0;34m=\u001b[0m \u001b[0mopen\u001b[0m\u001b[0;34m(\u001b[0m\u001b[0mfilename\u001b[0m\u001b[0;34m,\u001b[0m \u001b[0;34m'wb'\u001b[0m\u001b[0;34m)\u001b[0m\u001b[0;34m\u001b[0m\u001b[0;34m\u001b[0m\u001b[0m\n\u001b[1;32m    212\u001b[0m     \u001b[0mf\u001b[0m\u001b[0;34m.\u001b[0m\u001b[0mwrite\u001b[0m\u001b[0;34m(\u001b[0m\u001b[0mself\u001b[0m\u001b[0;34m.\u001b[0m\u001b[0mcontent\u001b[0m\u001b[0;34m.\u001b[0m\u001b[0mgetvalue\u001b[0m\u001b[0;34m(\u001b[0m\u001b[0;34m)\u001b[0m\u001b[0;34m)\u001b[0m\u001b[0;34m\u001b[0m\u001b[0;34m\u001b[0m\u001b[0m\n",
            "\u001b[0;32m/usr/local/lib/python3.7/dist-packages/pydrive/files.py\u001b[0m in \u001b[0;36m_decorated\u001b[0;34m(self, *args, **kwargs)\u001b[0m\n\u001b[1;32m     41\u001b[0m     \u001b[0;32mif\u001b[0m \u001b[0;32mnot\u001b[0m \u001b[0mself\u001b[0m\u001b[0;34m.\u001b[0m\u001b[0muploaded\u001b[0m\u001b[0;34m:\u001b[0m\u001b[0;34m\u001b[0m\u001b[0;34m\u001b[0m\u001b[0m\n\u001b[1;32m     42\u001b[0m       \u001b[0mself\u001b[0m\u001b[0;34m.\u001b[0m\u001b[0mFetchMetadata\u001b[0m\u001b[0;34m(\u001b[0m\u001b[0;34m)\u001b[0m\u001b[0;34m\u001b[0m\u001b[0;34m\u001b[0m\u001b[0m\n\u001b[0;32m---> 43\u001b[0;31m     \u001b[0;32mreturn\u001b[0m \u001b[0mdecoratee\u001b[0m\u001b[0;34m(\u001b[0m\u001b[0mself\u001b[0m\u001b[0;34m,\u001b[0m \u001b[0;34m*\u001b[0m\u001b[0margs\u001b[0m\u001b[0;34m,\u001b[0m \u001b[0;34m**\u001b[0m\u001b[0mkwargs\u001b[0m\u001b[0;34m)\u001b[0m\u001b[0;34m\u001b[0m\u001b[0;34m\u001b[0m\u001b[0m\n\u001b[0m\u001b[1;32m     44\u001b[0m   \u001b[0;32mreturn\u001b[0m \u001b[0m_decorated\u001b[0m\u001b[0;34m\u001b[0m\u001b[0;34m\u001b[0m\u001b[0m\n\u001b[1;32m     45\u001b[0m \u001b[0;34m\u001b[0m\u001b[0m\n",
            "\u001b[0;32m/usr/local/lib/python3.7/dist-packages/pydrive/files.py\u001b[0m in \u001b[0;36mFetchContent\u001b[0;34m(self, mimetype, remove_bom)\u001b[0m\n\u001b[1;32m    263\u001b[0m     \u001b[0;32melse\u001b[0m\u001b[0;34m:\u001b[0m\u001b[0;34m\u001b[0m\u001b[0;34m\u001b[0m\u001b[0m\n\u001b[1;32m    264\u001b[0m       raise FileNotDownloadableError(\n\u001b[0;32m--> 265\u001b[0;31m         'No downloadLink/exportLinks for mimetype found in metadata')\n\u001b[0m\u001b[1;32m    266\u001b[0m \u001b[0;34m\u001b[0m\u001b[0m\n\u001b[1;32m    267\u001b[0m     \u001b[0;32mif\u001b[0m \u001b[0mmimetype\u001b[0m \u001b[0;34m==\u001b[0m \u001b[0;34m'text/plain'\u001b[0m \u001b[0;32mand\u001b[0m \u001b[0mremove_bom\u001b[0m\u001b[0;34m:\u001b[0m\u001b[0;34m\u001b[0m\u001b[0;34m\u001b[0m\u001b[0m\n",
            "\u001b[0;31mFileNotDownloadableError\u001b[0m: No downloadLink/exportLinks for mimetype found in metadata"
          ]
        }
      ]
    },
    {
      "cell_type": "markdown",
      "metadata": {
        "id": "tTAIko3Ux0KU"
      },
      "source": [
        "A partir daqui importo a biblioteca [Pandas](https://pandas.pydata.org/) para melhor trabalhar com os dados. A saber a biblioteca é mantida e desenvolvida por um projeto de mesmo nome com patrocínio fiscal da [NumFOCUS](https://numfocus.org/)."
      ]
    },
    {
      "cell_type": "code",
      "metadata": {
        "colab": {
          "base_uri": "https://localhost:8080/",
          "height": 204
        },
        "id": "OlzH8QFUEtZx",
        "outputId": "cc611fd7-263c-49fc-d7fb-00dd2f3963a0"
      },
      "source": [
        "# Importação da biblioteca pandas\n",
        "import pandas as pd\n",
        "\n",
        "# Leitura e tratamento dos dados\n",
        "catalog = pd.read_csv('movies.csv', sep=',', header=None)\n",
        "catalog.head()"
      ],
      "execution_count": null,
      "outputs": [
        {
          "output_type": "execute_result",
          "data": {
            "text/html": [
              "<div>\n",
              "<style scoped>\n",
              "    .dataframe tbody tr th:only-of-type {\n",
              "        vertical-align: middle;\n",
              "    }\n",
              "\n",
              "    .dataframe tbody tr th {\n",
              "        vertical-align: top;\n",
              "    }\n",
              "\n",
              "    .dataframe thead th {\n",
              "        text-align: right;\n",
              "    }\n",
              "</style>\n",
              "<table border=\"1\" class=\"dataframe\">\n",
              "  <thead>\n",
              "    <tr style=\"text-align: right;\">\n",
              "      <th></th>\n",
              "      <th>0</th>\n",
              "      <th>1</th>\n",
              "    </tr>\n",
              "  </thead>\n",
              "  <tbody>\n",
              "    <tr>\n",
              "      <th>0</th>\n",
              "      <td>1;(Dinosaur Planet</td>\n",
              "      <td>2003)</td>\n",
              "    </tr>\n",
              "    <tr>\n",
              "      <th>1</th>\n",
              "      <td>2;(Isle of Man TT 2004 Review</td>\n",
              "      <td>2004)</td>\n",
              "    </tr>\n",
              "    <tr>\n",
              "      <th>2</th>\n",
              "      <td>3;(Character</td>\n",
              "      <td>1997)</td>\n",
              "    </tr>\n",
              "    <tr>\n",
              "      <th>3</th>\n",
              "      <td>4;(Paula Abdul's Get Up &amp; Dance</td>\n",
              "      <td>1994)</td>\n",
              "    </tr>\n",
              "    <tr>\n",
              "      <th>4</th>\n",
              "      <td>5;(The Rise and Fall of ECW</td>\n",
              "      <td>2004)</td>\n",
              "    </tr>\n",
              "  </tbody>\n",
              "</table>\n",
              "</div>"
            ],
            "text/plain": [
              "                                 0       1\n",
              "0               1;(Dinosaur Planet   2003)\n",
              "1    2;(Isle of Man TT 2004 Review   2004)\n",
              "2                     3;(Character   1997)\n",
              "3  4;(Paula Abdul's Get Up & Dance   1994)\n",
              "4      5;(The Rise and Fall of ECW   2004)"
            ]
          },
          "metadata": {
            "tags": []
          },
          "execution_count": 3
        }
      ]
    },
    {
      "cell_type": "markdown",
      "metadata": {
        "id": "Hu7pS_Q0b99x"
      },
      "source": [
        "Percebe-se que o arquivo precisa de uma ajuste para separar a ID e retirar os parênteses que agrupa a string titulo e ano."
      ]
    },
    {
      "cell_type": "code",
      "metadata": {
        "colab": {
          "base_uri": "https://localhost:8080/",
          "height": 204
        },
        "id": "4NKfL_ip1wOR",
        "outputId": "b758bd07-f5d1-45bf-860b-17ffd728edbb"
      },
      "source": [
        "# Renomeação das colunas\n",
        "catalog.rename(columns={0: 'Title', 1: 'release_year'}, inplace=True)\n",
        "\n",
        "# Tratamento das string na coluna title\n",
        "catalog.loc[:,'Title']= catalog['Title'].apply(lambda x: str(x).replace(';(', ';'))\n",
        "catalog[['Movie_Id', 'Title']] = catalog['Title'].str.split(';', 1, expand=True)\n",
        "\n",
        "# Remove na ultima posição da string da coluna release_year\n",
        "catalog['release_year'] = catalog['release_year'].map(lambda x: str(x)[:-1])\n",
        "\n",
        "# Reordena as colunas de trás para frente, para trazer o Movie_Id para a primeira coluna\n",
        "catalog = catalog.loc[:,::-1]\n",
        "catalog.head()"
      ],
      "execution_count": null,
      "outputs": [
        {
          "output_type": "execute_result",
          "data": {
            "text/html": [
              "<div>\n",
              "<style scoped>\n",
              "    .dataframe tbody tr th:only-of-type {\n",
              "        vertical-align: middle;\n",
              "    }\n",
              "\n",
              "    .dataframe tbody tr th {\n",
              "        vertical-align: top;\n",
              "    }\n",
              "\n",
              "    .dataframe thead th {\n",
              "        text-align: right;\n",
              "    }\n",
              "</style>\n",
              "<table border=\"1\" class=\"dataframe\">\n",
              "  <thead>\n",
              "    <tr style=\"text-align: right;\">\n",
              "      <th></th>\n",
              "      <th>Movie_Id</th>\n",
              "      <th>release_year</th>\n",
              "      <th>Title</th>\n",
              "    </tr>\n",
              "  </thead>\n",
              "  <tbody>\n",
              "    <tr>\n",
              "      <th>0</th>\n",
              "      <td>1</td>\n",
              "      <td>2003</td>\n",
              "      <td>Dinosaur Planet</td>\n",
              "    </tr>\n",
              "    <tr>\n",
              "      <th>1</th>\n",
              "      <td>2</td>\n",
              "      <td>2004</td>\n",
              "      <td>Isle of Man TT 2004 Review</td>\n",
              "    </tr>\n",
              "    <tr>\n",
              "      <th>2</th>\n",
              "      <td>3</td>\n",
              "      <td>1997</td>\n",
              "      <td>Character</td>\n",
              "    </tr>\n",
              "    <tr>\n",
              "      <th>3</th>\n",
              "      <td>4</td>\n",
              "      <td>1994</td>\n",
              "      <td>Paula Abdul's Get Up &amp; Dance</td>\n",
              "    </tr>\n",
              "    <tr>\n",
              "      <th>4</th>\n",
              "      <td>5</td>\n",
              "      <td>2004</td>\n",
              "      <td>The Rise and Fall of ECW</td>\n",
              "    </tr>\n",
              "  </tbody>\n",
              "</table>\n",
              "</div>"
            ],
            "text/plain": [
              "  Movie_Id release_year                         Title\n",
              "0        1         2003               Dinosaur Planet\n",
              "1        2         2004    Isle of Man TT 2004 Review\n",
              "2        3         1997                     Character\n",
              "3        4         1994  Paula Abdul's Get Up & Dance\n",
              "4        5         2004      The Rise and Fall of ECW"
            ]
          },
          "metadata": {
            "tags": []
          },
          "execution_count": 4
        }
      ]
    },
    {
      "cell_type": "markdown",
      "metadata": {
        "id": "TxfZbZpxciZH"
      },
      "source": [
        "# Base 2\n",
        "Seguindo o mesmo procedimento anterior, para importar a planilha basta indicar o id do Google Sheets.\n",
        "\n",
        "Aqui o arquivo recuperado possui mais de 600mb pode demorar em torno de 35~40s o processamento desta célula. "
      ]
    },
    {
      "cell_type": "code",
      "metadata": {
        "id": "BYHmUP4Vy4xF"
      },
      "source": [
        "# Indicação da planilha BASE2\n",
        "file_id = '1C_T1w8fc7Oa8MeTo4LMTEcv90IfEOS-6'\n",
        "downloaded = drive.CreateFile({'id': file_id})\n",
        "\n",
        "# Donwload do arquivo para o disco local\n",
        "downloaded.GetContentFile('rating.csv')\n",
        "\n",
        "# Confere o arquivo\n",
        "!ls -lha rating.csv"
      ],
      "execution_count": null,
      "outputs": []
    },
    {
      "cell_type": "markdown",
      "metadata": {
        "id": "MxNVCTqodoHD"
      },
      "source": [
        "Se o retorno da execução acima for:\n",
        "```\n",
        "-rw-r--r-- 1 root root 628M ... rating.csv\n",
        "```\n",
        "\n",
        "Está tudo certo, podemos prosseguir.\n",
        "\n",
        "Agora podemos fazer a leitura do arquivo .csv com o pandas e tratar os dados desta base."
      ]
    },
    {
      "cell_type": "code",
      "metadata": {
        "colab": {
          "base_uri": "https://localhost:8080/",
          "height": 204
        },
        "id": "NrK2tZf9zJks",
        "outputId": "4080050c-3a3b-4668-9c13-e8816a45923c"
      },
      "source": [
        "# Leitura e tratamento dos dados\n",
        "rating = pd.read_csv('rating.csv', sep=';')\n",
        "rating.head()"
      ],
      "execution_count": null,
      "outputs": [
        {
          "output_type": "execute_result",
          "data": {
            "text/html": [
              "<div>\n",
              "<style scoped>\n",
              "    .dataframe tbody tr th:only-of-type {\n",
              "        vertical-align: middle;\n",
              "    }\n",
              "\n",
              "    .dataframe tbody tr th {\n",
              "        vertical-align: top;\n",
              "    }\n",
              "\n",
              "    .dataframe thead th {\n",
              "        text-align: right;\n",
              "    }\n",
              "</style>\n",
              "<table border=\"1\" class=\"dataframe\">\n",
              "  <thead>\n",
              "    <tr style=\"text-align: right;\">\n",
              "      <th></th>\n",
              "      <th>Cust_Id</th>\n",
              "      <th>Rating</th>\n",
              "      <th>Date</th>\n",
              "      <th>Movie_Id</th>\n",
              "    </tr>\n",
              "  </thead>\n",
              "  <tbody>\n",
              "    <tr>\n",
              "      <th>0</th>\n",
              "      <td>1488844</td>\n",
              "      <td>3.0</td>\n",
              "      <td>2005-09-06</td>\n",
              "      <td>1</td>\n",
              "    </tr>\n",
              "    <tr>\n",
              "      <th>1</th>\n",
              "      <td>822109</td>\n",
              "      <td>5.0</td>\n",
              "      <td>2005-05-13</td>\n",
              "      <td>1</td>\n",
              "    </tr>\n",
              "    <tr>\n",
              "      <th>2</th>\n",
              "      <td>885013</td>\n",
              "      <td>4.0</td>\n",
              "      <td>2005-10-19</td>\n",
              "      <td>1</td>\n",
              "    </tr>\n",
              "    <tr>\n",
              "      <th>3</th>\n",
              "      <td>30878</td>\n",
              "      <td>4.0</td>\n",
              "      <td>2005-12-26</td>\n",
              "      <td>1</td>\n",
              "    </tr>\n",
              "    <tr>\n",
              "      <th>4</th>\n",
              "      <td>823519</td>\n",
              "      <td>3.0</td>\n",
              "      <td>2004-05-03</td>\n",
              "      <td>1</td>\n",
              "    </tr>\n",
              "  </tbody>\n",
              "</table>\n",
              "</div>"
            ],
            "text/plain": [
              "   Cust_Id  Rating        Date  Movie_Id\n",
              "0  1488844     3.0  2005-09-06         1\n",
              "1   822109     5.0  2005-05-13         1\n",
              "2   885013     4.0  2005-10-19         1\n",
              "3    30878     4.0  2005-12-26         1\n",
              "4   823519     3.0  2004-05-03         1"
            ]
          },
          "metadata": {
            "tags": []
          },
          "execution_count": 6
        }
      ]
    },
    {
      "cell_type": "code",
      "metadata": {
        "colab": {
          "base_uri": "https://localhost:8080/",
          "height": 204
        },
        "id": "jpJDfIXy2Rey",
        "outputId": "cc73a5c2-d63b-41d8-98c0-af0e03776406"
      },
      "source": [
        "# Garante que a coluna 'Movie_id' é int\n",
        "catalog['Movie_Id'] = catalog['Movie_Id'].astype(int)\n",
        "rating['Movie_Id'] = rating['Movie_Id'].astype(int)\n",
        "\n",
        "# Junta a tabela catalog e rating pela id em um dataframe\n",
        "df = pd.merge(catalog, rating, how = 'outer', on = 'Movie_Id')\n",
        "df.head()"
      ],
      "execution_count": null,
      "outputs": [
        {
          "output_type": "execute_result",
          "data": {
            "text/html": [
              "<div>\n",
              "<style scoped>\n",
              "    .dataframe tbody tr th:only-of-type {\n",
              "        vertical-align: middle;\n",
              "    }\n",
              "\n",
              "    .dataframe tbody tr th {\n",
              "        vertical-align: top;\n",
              "    }\n",
              "\n",
              "    .dataframe thead th {\n",
              "        text-align: right;\n",
              "    }\n",
              "</style>\n",
              "<table border=\"1\" class=\"dataframe\">\n",
              "  <thead>\n",
              "    <tr style=\"text-align: right;\">\n",
              "      <th></th>\n",
              "      <th>Movie_Id</th>\n",
              "      <th>release_year</th>\n",
              "      <th>Title</th>\n",
              "      <th>Cust_Id</th>\n",
              "      <th>Rating</th>\n",
              "      <th>Date</th>\n",
              "    </tr>\n",
              "  </thead>\n",
              "  <tbody>\n",
              "    <tr>\n",
              "      <th>0</th>\n",
              "      <td>1</td>\n",
              "      <td>2003</td>\n",
              "      <td>Dinosaur Planet</td>\n",
              "      <td>1488844</td>\n",
              "      <td>3.0</td>\n",
              "      <td>2005-09-06</td>\n",
              "    </tr>\n",
              "    <tr>\n",
              "      <th>1</th>\n",
              "      <td>1</td>\n",
              "      <td>2003</td>\n",
              "      <td>Dinosaur Planet</td>\n",
              "      <td>822109</td>\n",
              "      <td>5.0</td>\n",
              "      <td>2005-05-13</td>\n",
              "    </tr>\n",
              "    <tr>\n",
              "      <th>2</th>\n",
              "      <td>1</td>\n",
              "      <td>2003</td>\n",
              "      <td>Dinosaur Planet</td>\n",
              "      <td>885013</td>\n",
              "      <td>4.0</td>\n",
              "      <td>2005-10-19</td>\n",
              "    </tr>\n",
              "    <tr>\n",
              "      <th>3</th>\n",
              "      <td>1</td>\n",
              "      <td>2003</td>\n",
              "      <td>Dinosaur Planet</td>\n",
              "      <td>30878</td>\n",
              "      <td>4.0</td>\n",
              "      <td>2005-12-26</td>\n",
              "    </tr>\n",
              "    <tr>\n",
              "      <th>4</th>\n",
              "      <td>1</td>\n",
              "      <td>2003</td>\n",
              "      <td>Dinosaur Planet</td>\n",
              "      <td>823519</td>\n",
              "      <td>3.0</td>\n",
              "      <td>2004-05-03</td>\n",
              "    </tr>\n",
              "  </tbody>\n",
              "</table>\n",
              "</div>"
            ],
            "text/plain": [
              "   Movie_Id release_year            Title  Cust_Id  Rating        Date\n",
              "0         1         2003  Dinosaur Planet  1488844     3.0  2005-09-06\n",
              "1         1         2003  Dinosaur Planet   822109     5.0  2005-05-13\n",
              "2         1         2003  Dinosaur Planet   885013     4.0  2005-10-19\n",
              "3         1         2003  Dinosaur Planet    30878     4.0  2005-12-26\n",
              "4         1         2003  Dinosaur Planet   823519     3.0  2004-05-03"
            ]
          },
          "metadata": {
            "tags": []
          },
          "execution_count": 7
        }
      ]
    },
    {
      "cell_type": "markdown",
      "metadata": {
        "id": "ehhhQhZD4Xm2"
      },
      "source": [
        "# Quantos filmes estão disponíveis no dataset?"
      ]
    },
    {
      "cell_type": "code",
      "metadata": {
        "colab": {
          "base_uri": "https://localhost:8080/"
        },
        "id": "aAxSGdlV4gDz",
        "outputId": "8260ce6b-9909-4e7a-e28d-2498bec5c50f"
      },
      "source": [
        "print(df['Movie_Id'].nunique())"
      ],
      "execution_count": null,
      "outputs": [
        {
          "output_type": "stream",
          "text": [
            "4499\n"
          ],
          "name": "stdout"
        }
      ]
    },
    {
      "cell_type": "markdown",
      "metadata": {
        "id": "rAIdL0YPe2sW"
      },
      "source": [
        "# Qual é o nome dos 5 filmes com melhor média de avaliação?"
      ]
    },
    {
      "cell_type": "markdown",
      "metadata": {
        "id": "PU3Wshy5e9mH"
      },
      "source": [
        "Para essa pergunta é preciso saber a média de avaliação de cada filme e só então ordemar para identificar os cinco melhores"
      ]
    },
    {
      "cell_type": "code",
      "metadata": {
        "colab": {
          "base_uri": "https://localhost:8080/",
          "height": 204
        },
        "id": "okClu0q7e51k",
        "outputId": "9d07eccf-eed6-4aa0-aa6e-477e3b41dbd5"
      },
      "source": [
        "# Garante que a coluna 'Rating' é float\n",
        "df['Rating'] = df['Rating'].astype(float)\n",
        "\n",
        "# Cálcula a média e agrega numa coluna com nome 'Mean'\n",
        "media = df.groupby('Movie_Id')['Rating'].transform('mean')\n",
        "df['Mean']= media\n",
        "\n",
        "# Ordena a tabela pela média de avaliação, agrupa o titulo por nome, exibe os 5 primeiros\n",
        "df.loc[df.groupby(['Title'])['Mean'].idxmax()][['Title', 'Mean']].sort_values(by='Mean', ascending=False).head(5)"
      ],
      "execution_count": null,
      "outputs": [
        {
          "output_type": "execute_result",
          "data": {
            "text/html": [
              "<div>\n",
              "<style scoped>\n",
              "    .dataframe tbody tr th:only-of-type {\n",
              "        vertical-align: middle;\n",
              "    }\n",
              "\n",
              "    .dataframe tbody tr th {\n",
              "        vertical-align: top;\n",
              "    }\n",
              "\n",
              "    .dataframe thead th {\n",
              "        text-align: right;\n",
              "    }\n",
              "</style>\n",
              "<table border=\"1\" class=\"dataframe\">\n",
              "  <thead>\n",
              "    <tr style=\"text-align: right;\">\n",
              "      <th></th>\n",
              "      <th>Title</th>\n",
              "      <th>Mean</th>\n",
              "    </tr>\n",
              "  </thead>\n",
              "  <tbody>\n",
              "    <tr>\n",
              "      <th>18167201</th>\n",
              "      <td>Lost: Season 1</td>\n",
              "      <td>4.670989</td>\n",
              "    </tr>\n",
              "    <tr>\n",
              "      <th>15639698</th>\n",
              "      <td>Ghost in the Shell: Stand Alone Complex: 2nd Gig</td>\n",
              "      <td>4.586364</td>\n",
              "    </tr>\n",
              "    <tr>\n",
              "      <th>10677168</th>\n",
              "      <td>The Simpsons: Season 6</td>\n",
              "      <td>4.581296</td>\n",
              "    </tr>\n",
              "    <tr>\n",
              "      <th>22333761</th>\n",
              "      <td>Inu-Yasha</td>\n",
              "      <td>4.554434</td>\n",
              "    </tr>\n",
              "    <tr>\n",
              "      <th>21096</th>\n",
              "      <td>Lord of the Rings: The Return of the King: Ext...</td>\n",
              "      <td>4.552000</td>\n",
              "    </tr>\n",
              "  </tbody>\n",
              "</table>\n",
              "</div>"
            ],
            "text/plain": [
              "                                                      Title      Mean\n",
              "18167201                                     Lost: Season 1  4.670989\n",
              "15639698   Ghost in the Shell: Stand Alone Complex: 2nd Gig  4.586364\n",
              "10677168                             The Simpsons: Season 6  4.581296\n",
              "22333761                                          Inu-Yasha  4.554434\n",
              "21096     Lord of the Rings: The Return of the King: Ext...  4.552000"
            ]
          },
          "metadata": {
            "tags": []
          },
          "execution_count": 9
        }
      ]
    },
    {
      "cell_type": "markdown",
      "metadata": {
        "id": "x67GenSu790o"
      },
      "source": [
        "# Quais os 5 anos com menos lançamentos de filmes?\n"
      ]
    },
    {
      "cell_type": "code",
      "metadata": {
        "colab": {
          "base_uri": "https://localhost:8080/",
          "height": 204
        },
        "id": "VbR6G-sq8WNy",
        "outputId": "b9edf8dc-dadd-425a-db9f-d2bea9c30e01"
      },
      "source": [
        "# Identifica o ano de cada titulo\n",
        "df['Year'] = pd.DatetimeIndex(df['Date']).year\n",
        "\n",
        "# Confere a frequência de ocorrências para cada ano\n",
        "df.groupby(['Year']).size().reset_index(name='N_releases').head(5)"
      ],
      "execution_count": null,
      "outputs": [
        {
          "output_type": "execute_result",
          "data": {
            "text/html": [
              "<div>\n",
              "<style scoped>\n",
              "    .dataframe tbody tr th:only-of-type {\n",
              "        vertical-align: middle;\n",
              "    }\n",
              "\n",
              "    .dataframe tbody tr th {\n",
              "        vertical-align: top;\n",
              "    }\n",
              "\n",
              "    .dataframe thead th {\n",
              "        text-align: right;\n",
              "    }\n",
              "</style>\n",
              "<table border=\"1\" class=\"dataframe\">\n",
              "  <thead>\n",
              "    <tr style=\"text-align: right;\">\n",
              "      <th></th>\n",
              "      <th>Year</th>\n",
              "      <th>N_releases</th>\n",
              "    </tr>\n",
              "  </thead>\n",
              "  <tbody>\n",
              "    <tr>\n",
              "      <th>0</th>\n",
              "      <td>1999</td>\n",
              "      <td>426</td>\n",
              "    </tr>\n",
              "    <tr>\n",
              "      <th>1</th>\n",
              "      <td>2000</td>\n",
              "      <td>193255</td>\n",
              "    </tr>\n",
              "    <tr>\n",
              "      <th>2</th>\n",
              "      <td>2001</td>\n",
              "      <td>370691</td>\n",
              "    </tr>\n",
              "    <tr>\n",
              "      <th>3</th>\n",
              "      <td>2002</td>\n",
              "      <td>959548</td>\n",
              "    </tr>\n",
              "    <tr>\n",
              "      <th>4</th>\n",
              "      <td>2003</td>\n",
              "      <td>2397989</td>\n",
              "    </tr>\n",
              "  </tbody>\n",
              "</table>\n",
              "</div>"
            ],
            "text/plain": [
              "   Year  N_releases\n",
              "0  1999         426\n",
              "1  2000      193255\n",
              "2  2001      370691\n",
              "3  2002      959548\n",
              "4  2003     2397989"
            ]
          },
          "metadata": {
            "tags": []
          },
          "execution_count": 10
        }
      ]
    },
    {
      "cell_type": "markdown",
      "metadata": {
        "id": "4pN-PYVF-nQ5"
      },
      "source": [
        "# Quantos filmes que possuem avaliação maior ou igual a 4.7, considerando apenas os filmes avaliados na última data de avaliação do dataset?"
      ]
    },
    {
      "cell_type": "code",
      "metadata": {
        "colab": {
          "base_uri": "https://localhost:8080/"
        },
        "id": "CF0yJsg3-YpO",
        "outputId": "b3de9808-5133-4d87-ab47-736da9e8bc85"
      },
      "source": [
        "# Aqui se faz necessário um subset para diminuir a quantidade de dados processados\n",
        "subset = df[['Title','Rating', 'Date']]\n",
        "\n",
        "# Coverter a coluna data para datetime otimiza a ordenação de 55s para 19s\n",
        "subset['Date'] = pd.to_datetime(subset.Date)\n",
        "\n",
        "# Ordena a data e agrupa o titulo pelo nome\n",
        "subset = subset.sort_values('Date').groupby('Title').tail(1)\n",
        "\n",
        "# As notas são numeros decimais com 1 casa, logo o filtro ficou maior que 4.6\n",
        "lista = subset[subset['Rating'] > 4.6]\n",
        "lista['Title'].nunique()"
      ],
      "execution_count": null,
      "outputs": [
        {
          "output_type": "execute_result",
          "data": {
            "text/plain": [
              "848"
            ]
          },
          "metadata": {
            "tags": []
          },
          "execution_count": 36
        }
      ]
    },
    {
      "cell_type": "markdown",
      "metadata": {
        "id": "LGAgMzRKLCjs"
      },
      "source": [
        "# Dos filmes encontrados na questão anterior, quais são os 10 filmes com as piores notas e quais as notas?"
      ]
    },
    {
      "cell_type": "markdown",
      "metadata": {
        "id": "NT3ok9j0LIXM"
      },
      "source": [
        "Aqui não entendi se é pra conferir dentre os 848 titulos avaliados com notas acima que 4.7 ou se é para listar as 10 piores notas apenas com os filtro considerando a data de ultima avaliação. Fiz esta última, dado que todos os filmes do filtro anterior tem classificação igual a 5."
      ]
    },
    {
      "cell_type": "code",
      "metadata": {
        "colab": {
          "base_uri": "https://localhost:8080/",
          "height": 359
        },
        "id": "NEFhH2_wFKCV",
        "outputId": "2c373b5a-a38e-493d-94eb-4be846af1093"
      },
      "source": [
        "subset.sort_values('Rating')[['title', 'Rating']].head(10)"
      ],
      "execution_count": null,
      "outputs": [
        {
          "output_type": "execute_result",
          "data": {
            "text/html": [
              "<div>\n",
              "<style scoped>\n",
              "    .dataframe tbody tr th:only-of-type {\n",
              "        vertical-align: middle;\n",
              "    }\n",
              "\n",
              "    .dataframe tbody tr th {\n",
              "        vertical-align: top;\n",
              "    }\n",
              "\n",
              "    .dataframe thead th {\n",
              "        text-align: right;\n",
              "    }\n",
              "</style>\n",
              "<table border=\"1\" class=\"dataframe\">\n",
              "  <thead>\n",
              "    <tr style=\"text-align: right;\">\n",
              "      <th></th>\n",
              "      <th>title</th>\n",
              "      <th>Rating</th>\n",
              "    </tr>\n",
              "  </thead>\n",
              "  <tbody>\n",
              "    <tr>\n",
              "      <th>2594674</th>\n",
              "      <td>George Carlin: Personal Favorites</td>\n",
              "      <td>1.0</td>\n",
              "    </tr>\n",
              "    <tr>\n",
              "      <th>10529256</th>\n",
              "      <td>Andaz Apna Apna</td>\n",
              "      <td>1.0</td>\n",
              "    </tr>\n",
              "    <tr>\n",
              "      <th>5469125</th>\n",
              "      <td>Virtual Girl</td>\n",
              "      <td>1.0</td>\n",
              "    </tr>\n",
              "    <tr>\n",
              "      <th>2892261</th>\n",
              "      <td>Return to Horror High</td>\n",
              "      <td>1.0</td>\n",
              "    </tr>\n",
              "    <tr>\n",
              "      <th>18579036</th>\n",
              "      <td>Arakimentari</td>\n",
              "      <td>1.0</td>\n",
              "    </tr>\n",
              "    <tr>\n",
              "      <th>17489064</th>\n",
              "      <td>Sam Kinison: Outlaws of Comedy</td>\n",
              "      <td>1.0</td>\n",
              "    </tr>\n",
              "    <tr>\n",
              "      <th>13977131</th>\n",
              "      <td>Power</td>\n",
              "      <td>1.0</td>\n",
              "    </tr>\n",
              "    <tr>\n",
              "      <th>2224293</th>\n",
              "      <td>George Lopez: Why You Crying?</td>\n",
              "      <td>1.0</td>\n",
              "    </tr>\n",
              "    <tr>\n",
              "      <th>9924487</th>\n",
              "      <td>Terror Toons</td>\n",
              "      <td>1.0</td>\n",
              "    </tr>\n",
              "    <tr>\n",
              "      <th>22338842</th>\n",
              "      <td>Harlan County War</td>\n",
              "      <td>1.0</td>\n",
              "    </tr>\n",
              "  </tbody>\n",
              "</table>\n",
              "</div>"
            ],
            "text/plain": [
              "                                      title  Rating\n",
              "2594674   George Carlin: Personal Favorites     1.0\n",
              "10529256                    Andaz Apna Apna     1.0\n",
              "5469125                        Virtual Girl     1.0\n",
              "2892261               Return to Horror High     1.0\n",
              "18579036                       Arakimentari     1.0\n",
              "17489064     Sam Kinison: Outlaws of Comedy     1.0\n",
              "13977131                              Power     1.0\n",
              "2224293       George Lopez: Why You Crying?     1.0\n",
              "9924487                        Terror Toons     1.0\n",
              "22338842                  Harlan County War     1.0"
            ]
          },
          "metadata": {
            "tags": []
          },
          "execution_count": 62
        }
      ]
    },
    {
      "cell_type": "markdown",
      "metadata": {
        "id": "JOBe6wZMMt_v"
      },
      "source": [
        "# Quais os id's dos 5 customer que mais avaliaram filmes e quantas avaliações cada um fez?"
      ]
    },
    {
      "cell_type": "code",
      "metadata": {
        "colab": {
          "base_uri": "https://localhost:8080/",
          "height": 204
        },
        "id": "XkC2JlELMy8a",
        "outputId": "0ccb7534-366e-40e1-e178-d8aada3d27f6"
      },
      "source": [
        "# Agrupa os customers e faz a contagem de frequência de ocorencia\n",
        "# Ordena por ordem descentente e exibe os 5 primeiros\n",
        "df.groupby(['Cust_Id']).size().sort_values(ascending=False).reset_index(name='N_Avaliacao').head(5)"
      ],
      "execution_count": null,
      "outputs": [
        {
          "output_type": "execute_result",
          "data": {
            "text/html": [
              "<div>\n",
              "<style scoped>\n",
              "    .dataframe tbody tr th:only-of-type {\n",
              "        vertical-align: middle;\n",
              "    }\n",
              "\n",
              "    .dataframe tbody tr th {\n",
              "        vertical-align: top;\n",
              "    }\n",
              "\n",
              "    .dataframe thead th {\n",
              "        text-align: right;\n",
              "    }\n",
              "</style>\n",
              "<table border=\"1\" class=\"dataframe\">\n",
              "  <thead>\n",
              "    <tr style=\"text-align: right;\">\n",
              "      <th></th>\n",
              "      <th>Cust_Id</th>\n",
              "      <th>N_Avaliacao</th>\n",
              "    </tr>\n",
              "  </thead>\n",
              "  <tbody>\n",
              "    <tr>\n",
              "      <th>0</th>\n",
              "      <td>305344</td>\n",
              "      <td>4467</td>\n",
              "    </tr>\n",
              "    <tr>\n",
              "      <th>1</th>\n",
              "      <td>387418</td>\n",
              "      <td>4422</td>\n",
              "    </tr>\n",
              "    <tr>\n",
              "      <th>2</th>\n",
              "      <td>2439493</td>\n",
              "      <td>4195</td>\n",
              "    </tr>\n",
              "    <tr>\n",
              "      <th>3</th>\n",
              "      <td>1664010</td>\n",
              "      <td>4019</td>\n",
              "    </tr>\n",
              "    <tr>\n",
              "      <th>4</th>\n",
              "      <td>2118461</td>\n",
              "      <td>3769</td>\n",
              "    </tr>\n",
              "  </tbody>\n",
              "</table>\n",
              "</div>"
            ],
            "text/plain": [
              "   Cust_Id  N_Avaliacao\n",
              "0   305344         4467\n",
              "1   387418         4422\n",
              "2  2439493         4195\n",
              "3  1664010         4019\n",
              "4  2118461         3769"
            ]
          },
          "metadata": {
            "tags": []
          },
          "execution_count": 70
        }
      ]
    }
  ]
}